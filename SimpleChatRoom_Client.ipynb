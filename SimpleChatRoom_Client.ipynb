{
 "cells": [
  {
   "cell_type": "code",
   "execution_count": null,
   "id": "139c4f84",
   "metadata": {},
   "outputs": [
    {
     "name": "stdout",
     "output_type": "stream",
     "text": [
      "==========================================\n",
      "              SIMPLE CHAT ROOM            \n",
      "==========================================\n",
      "Client: Hi\n",
      "Server:  Hey\n",
      "Client: This is Client\n",
      "Server:  This is Server\n",
      "Client: exit\n"
     ]
    }
   ],
   "source": [
    "# CLIENT CODE\n",
    "import socket\n",
    "\n",
    "print(\"==========================================\")\n",
    "print(\"              SIMPLE CHAT ROOM            \")\n",
    "print(\"==========================================\")\n",
    "\n",
    "# Create a TCP/IP socket\n",
    "client_socket = socket.socket(socket.AF_INET, socket.SOCK_STREAM)\n",
    "\n",
    "server_host = socket.gethostname()\n",
    "server_port = 9999\n",
    "server_address = (server_host, server_port)\n",
    "\n",
    "# Connect the socket to the server\n",
    "client_socket.connect(server_address)\n",
    "\n",
    "# Send messages to the server and receive replies\n",
    "while True:\n",
    "    # Prompt the user to enter a message\n",
    "    message = input(\"Client: \")\n",
    "    # Send the message to the server\n",
    "    client_socket.sendall(message.encode())\n",
    "    # Receive a reply from the server\n",
    "    recData = client_socket.recv(1024).decode()\n",
    "    # Print the reply\n",
    "    print(\"Server: \", recData)\n",
    "    # Exit the loop if the message is \"exit\"\n",
    "    if message == \"exit\":\n",
    "        break\n",
    "\n",
    "# Close the socket\n",
    "client_socket.close()"
   ]
  }
 ],
 "metadata": {
  "kernelspec": {
   "display_name": "Python 3 (ipykernel)",
   "language": "python",
   "name": "python3"
  },
  "language_info": {
   "codemirror_mode": {
    "name": "ipython",
    "version": 3
   },
   "file_extension": ".py",
   "mimetype": "text/x-python",
   "name": "python",
   "nbconvert_exporter": "python",
   "pygments_lexer": "ipython3",
   "version": "3.9.13"
  }
 },
 "nbformat": 4,
 "nbformat_minor": 5
}
