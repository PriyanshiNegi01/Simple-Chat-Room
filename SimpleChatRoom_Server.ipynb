{
 "cells": [
  {
   "cell_type": "code",
   "execution_count": null,
   "id": "9dc3ad56",
   "metadata": {},
   "outputs": [
    {
     "name": "stdout",
     "output_type": "stream",
     "text": [
      "Server listening on PRIYANSHI-PC:9999\n",
      "New connection from 192.168.1.6:60272\n",
      "Client: Hi\n",
      "Server: Hey\n",
      "Client: This is Client\n",
      "Server: This is Server\n",
      "Client: exit\n"
     ]
    }
   ],
   "source": [
    "# SERVER CODE\n",
    "import socket\n",
    "import threading\n",
    "\n",
    "# Function to handle each client connection\n",
    "def handle_client(client_socket, client_address):\n",
    "    print(f\"New connection from {client_address[0]}:{client_address[1]}\")\n",
    "    while True:\n",
    "        # Receive data from the client\n",
    "        recData = client_socket.recv(1024).decode()\n",
    "        if not recData:\n",
    "            # Break the loop if no data received\n",
    "            break\n",
    "        # Print the received message\n",
    "        print(f\"Client: {recData}\")\n",
    "        # Send a reply back to the client\n",
    "        reply = input(\"Server: \")\n",
    "        client_socket.sendall(reply.encode())\n",
    "    # Close the connection with the client\n",
    "    client_socket.close()\n",
    "    print(f\"Connection closed with {client_address[0]}:{client_address[1]}\")\n",
    "\n",
    "# Create a TCP/IP socket\n",
    "server_socket = socket.socket(socket.AF_INET, socket.SOCK_STREAM)\n",
    "\n",
    "# Bind the socket to a host and port\n",
    "server_host = socket.gethostname()\n",
    "server_port = 9999\n",
    "server_socket.bind((server_host, server_port))\n",
    "\n",
    "# Listen for incoming connections\n",
    "server_socket.listen()\n",
    "print(f\"Server listening on {server_host}:{server_port}\")\n",
    "\n",
    "# Handle incoming connections using multiple threads\n",
    "while True:\n",
    "    # Wait for a new connection\n",
    "    client_socket, client_address = server_socket.accept()\n",
    "    # Start a new thread to handle the connection\n",
    "    client_thread = threading.Thread(target=handle_client, args=(client_socket, client_address))\n",
    "    client_thread.start()"
   ]
  }
 ],
 "metadata": {
  "kernelspec": {
   "display_name": "Python 3 (ipykernel)",
   "language": "python",
   "name": "python3"
  },
  "language_info": {
   "codemirror_mode": {
    "name": "ipython",
    "version": 3
   },
   "file_extension": ".py",
   "mimetype": "text/x-python",
   "name": "python",
   "nbconvert_exporter": "python",
   "pygments_lexer": "ipython3",
   "version": "3.9.13"
  }
 },
 "nbformat": 4,
 "nbformat_minor": 5
}
